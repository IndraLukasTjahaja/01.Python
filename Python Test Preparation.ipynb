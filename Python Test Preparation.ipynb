{
 "cells": [
  {
   "cell_type": "code",
   "execution_count": 3,
   "metadata": {},
   "outputs": [],
   "source": [
    "import pandas as pd\n",
    "import numpy as np\n",
    "from sklearn.neural_network import MLPClassifier\n",
    "from sklearn.linear_model import LogisticRegression\n",
    "from sklearn.naive_bayes import MultinomialNB\n",
    "from sklearn import svm\n"
   ]
  },
  {
   "cell_type": "code",
   "execution_count": 6,
   "metadata": {},
   "outputs": [
    {
     "data": {
      "text/html": [
       "<div>\n",
       "<style scoped>\n",
       "    .dataframe tbody tr th:only-of-type {\n",
       "        vertical-align: middle;\n",
       "    }\n",
       "\n",
       "    .dataframe tbody tr th {\n",
       "        vertical-align: top;\n",
       "    }\n",
       "\n",
       "    .dataframe thead th {\n",
       "        text-align: right;\n",
       "    }\n",
       "</style>\n",
       "<table border=\"1\" class=\"dataframe\">\n",
       "  <thead>\n",
       "    <tr style=\"text-align: right;\">\n",
       "      <th></th>\n",
       "      <th>Type</th>\n",
       "      <th>2016-10-01 00:00:00</th>\n",
       "      <th>2016-11-01 00:00:00</th>\n",
       "      <th>2016-12-01 00:00:00</th>\n",
       "      <th>2017-01-01 00:00:00</th>\n",
       "      <th>2017-02-01 00:00:00</th>\n",
       "      <th>2017-03-01 00:00:00</th>\n",
       "    </tr>\n",
       "  </thead>\n",
       "  <tbody>\n",
       "    <tr>\n",
       "      <th>0</th>\n",
       "      <td>Total Users who Signed Up</td>\n",
       "      <td>960407</td>\n",
       "      <td>861839</td>\n",
       "      <td>945086</td>\n",
       "      <td>973796</td>\n",
       "      <td>1071553</td>\n",
       "      <td>1365507</td>\n",
       "    </tr>\n",
       "    <tr>\n",
       "      <th>1</th>\n",
       "      <td>Total Users who Phone Verified</td>\n",
       "      <td>797435</td>\n",
       "      <td>710452</td>\n",
       "      <td>772475</td>\n",
       "      <td>788994</td>\n",
       "      <td>879498</td>\n",
       "      <td>1048511</td>\n",
       "    </tr>\n",
       "    <tr>\n",
       "      <th>2</th>\n",
       "      <td>Total Users who Requested a Booking</td>\n",
       "      <td>501823</td>\n",
       "      <td>420112</td>\n",
       "      <td>385342</td>\n",
       "      <td>349377</td>\n",
       "      <td>399112</td>\n",
       "      <td>461350</td>\n",
       "    </tr>\n",
       "    <tr>\n",
       "      <th>3</th>\n",
       "      <td>Total Active Users</td>\n",
       "      <td>368807</td>\n",
       "      <td>305045</td>\n",
       "      <td>321980</td>\n",
       "      <td>299310</td>\n",
       "      <td>330418</td>\n",
       "      <td>393247</td>\n",
       "    </tr>\n",
       "  </tbody>\n",
       "</table>\n",
       "</div>"
      ],
      "text/plain": [
       "                                  Type  2016-10-01 00:00:00  \\\n",
       "0            Total Users who Signed Up               960407   \n",
       "1       Total Users who Phone Verified               797435   \n",
       "2  Total Users who Requested a Booking               501823   \n",
       "3                   Total Active Users               368807   \n",
       "\n",
       "   2016-11-01 00:00:00  2016-12-01 00:00:00  2017-01-01 00:00:00  \\\n",
       "0               861839               945086               973796   \n",
       "1               710452               772475               788994   \n",
       "2               420112               385342               349377   \n",
       "3               305045               321980               299310   \n",
       "\n",
       "   2017-02-01 00:00:00  2017-03-01 00:00:00  \n",
       "0              1071553              1365507  \n",
       "1               879498              1048511  \n",
       "2               399112               461350  \n",
       "3               330418               393247  "
      ]
     },
     "execution_count": 6,
     "metadata": {},
     "output_type": "execute_result"
    }
   ],
   "source": [
    "dfA = pd.read_excel('Test_ProblemA.xlsx')\n",
    "dfA.head()"
   ]
  },
  {
   "cell_type": "code",
   "execution_count": 7,
   "metadata": {},
   "outputs": [
    {
     "data": {
      "text/html": [
       "<div>\n",
       "<style scoped>\n",
       "    .dataframe tbody tr th:only-of-type {\n",
       "        vertical-align: middle;\n",
       "    }\n",
       "\n",
       "    .dataframe tbody tr th {\n",
       "        vertical-align: top;\n",
       "    }\n",
       "\n",
       "    .dataframe thead th {\n",
       "        text-align: right;\n",
       "    }\n",
       "</style>\n",
       "<table border=\"1\" class=\"dataframe\">\n",
       "  <thead>\n",
       "    <tr style=\"text-align: right;\">\n",
       "      <th></th>\n",
       "      <th>Date</th>\n",
       "      <th># of Orders</th>\n",
       "      <th>Status of Order</th>\n",
       "      <th>Total CBV</th>\n",
       "      <th>Service</th>\n",
       "    </tr>\n",
       "  </thead>\n",
       "  <tbody>\n",
       "    <tr>\n",
       "      <th>0</th>\n",
       "      <td>2016-01-01</td>\n",
       "      <td>180</td>\n",
       "      <td>Cancelled</td>\n",
       "      <td>76076000.0</td>\n",
       "      <td>GO-BOX</td>\n",
       "    </tr>\n",
       "    <tr>\n",
       "      <th>1</th>\n",
       "      <td>2016-01-01</td>\n",
       "      <td>10</td>\n",
       "      <td>Cancelled</td>\n",
       "      <td>1960140.0</td>\n",
       "      <td>GO-CLEAN</td>\n",
       "    </tr>\n",
       "    <tr>\n",
       "      <th>2</th>\n",
       "      <td>2016-01-01</td>\n",
       "      <td>28380</td>\n",
       "      <td>Cancelled</td>\n",
       "      <td>489898500.0</td>\n",
       "      <td>GO-FOOD</td>\n",
       "    </tr>\n",
       "    <tr>\n",
       "      <th>3</th>\n",
       "      <td>2016-01-01</td>\n",
       "      <td>0</td>\n",
       "      <td>Cancelled</td>\n",
       "      <td>728000.0</td>\n",
       "      <td>GO-GLAM</td>\n",
       "    </tr>\n",
       "    <tr>\n",
       "      <th>4</th>\n",
       "      <td>2016-01-01</td>\n",
       "      <td>10</td>\n",
       "      <td>Cancelled</td>\n",
       "      <td>136500.0</td>\n",
       "      <td>GO-KILAT</td>\n",
       "    </tr>\n",
       "  </tbody>\n",
       "</table>\n",
       "</div>"
      ],
      "text/plain": [
       "        Date  # of Orders Status of Order    Total CBV   Service\n",
       "0 2016-01-01          180       Cancelled   76076000.0    GO-BOX\n",
       "1 2016-01-01           10       Cancelled    1960140.0  GO-CLEAN\n",
       "2 2016-01-01        28380       Cancelled  489898500.0   GO-FOOD\n",
       "3 2016-01-01            0       Cancelled     728000.0   GO-GLAM\n",
       "4 2016-01-01           10       Cancelled     136500.0  GO-KILAT"
      ]
     },
     "execution_count": 7,
     "metadata": {},
     "output_type": "execute_result"
    }
   ],
   "source": [
    "dfB = pd.read_excel('Test_ProblemB.xlsx')\n",
    "dfB.head()"
   ]
  },
  {
   "cell_type": "code",
   "execution_count": 8,
   "metadata": {},
   "outputs": [
    {
     "data": {
      "text/plain": [
       "(array([  2.79600000e+03,   9.80000000e+01,   1.73000000e+02,\n",
       "          4.20000000e+01,   6.00000000e+00,   2.00000000e+00,\n",
       "          5.00000000e+00,   1.00000000e+01,   5.00000000e+00,\n",
       "          2.00000000e+00,   2.00000000e+00,   4.00000000e+00,\n",
       "          4.00000000e+00,   5.00000000e+00,   1.30000000e+01,\n",
       "          8.00000000e+00,   1.40000000e+01,   1.20000000e+01,\n",
       "          7.00000000e+00,   2.00000000e+00]),\n",
       " array([  0.00000000e+00,   5.17949705e+08,   1.03589941e+09,\n",
       "          1.55384912e+09,   2.07179882e+09,   2.58974852e+09,\n",
       "          3.10769823e+09,   3.62564794e+09,   4.14359764e+09,\n",
       "          4.66154734e+09,   5.17949705e+09,   5.69744676e+09,\n",
       "          6.21539646e+09,   6.73334616e+09,   7.25129587e+09,\n",
       "          7.76924558e+09,   8.28719528e+09,   8.80514498e+09,\n",
       "          9.32309469e+09,   9.84104440e+09,   1.03589941e+10]),\n",
       " <a list of 20 Patch objects>)"
      ]
     },
     "execution_count": 8,
     "metadata": {},
     "output_type": "execute_result"
    },
    {
     "data": {
      "image/png": "[encoded data removed]",
      "text/plain": [
       "<matplotlib.figure.Figure at 0xa9539e8>"
      ]
     },
     "metadata": {},
     "output_type": "display_data"
    }
   ],
   "source": [
    "import matplotlib.pyplot as plt\n",
    "%matplotlib inline\n",
    "\n",
    "plt.hist(dfB['Total CBV'], bins=20)"
   ]
  },
  {
   "cell_type": "code",
   "execution_count": 9,
   "metadata": {},
   "outputs": [
    {
     "data": {
      "text/plain": [
       "<matplotlib.axes._subplots.AxesSubplot at 0xadf2f28>"
      ]
     },
     "execution_count": 9,
     "metadata": {},
     "output_type": "execute_result"
    },
    {
     "data": {
      "image/png": "[encoded data removed]",
      "text/plain": [
       "<matplotlib.figure.Figure at 0xac33f60>"
      ]
     },
     "metadata": {},
     "output_type": "display_data"
    }
   ],
   "source": [
    "import seaborn\n",
    "seaborn.distplot(dfB['Total CBV'], bins=20)"
   ]
  },
  {
   "cell_type": "code",
   "execution_count": 10,
   "metadata": {},
   "outputs": [
    {
     "ename": "SyntaxError",
     "evalue": "invalid character in identifier (<ipython-input-10-df0af3bff627>, line 1)",
     "output_type": "error",
     "traceback": [
      "\u001b[1;36m  File \u001b[1;32m\"<ipython-input-10-df0af3bff627>\"\u001b[1;36m, line \u001b[1;32m1\u001b[0m\n\u001b[1;33m    dfB['Total CBV'].plot(kind = “bar”)\u001b[0m\n\u001b[1;37m                                     ^\u001b[0m\n\u001b[1;31mSyntaxError\u001b[0m\u001b[1;31m:\u001b[0m invalid character in identifier\n"
     ]
    }
   ],
   "source": [
    "dfB['Total CBV'].plot(kind = “bar”)"
   ]
  },
  {
   "cell_type": "code",
   "execution_count": null,
   "metadata": {},
   "outputs": [],
   "source": []
  }
 ],
 "metadata": {
  "kernelspec": {
   "display_name": "Python 3",
   "language": "python",
   "name": "python3"
  },
  "language_info": {
   "codemirror_mode": {
    "name": "ipython",
    "version": 3
   },
   "file_extension": ".py",
   "mimetype": "text/x-python",
   "name": "python",
   "nbconvert_exporter": "python",
   "pygments_lexer": "ipython3",
   "version": "3.5.4"
  }
 },
 "nbformat": 4,
 "nbformat_minor": 2
}
