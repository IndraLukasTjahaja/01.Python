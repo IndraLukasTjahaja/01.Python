{
 "metadata": {
  "language_info": {
   "codemirror_mode": {
    "name": "ipython",
    "version": 3
   },
   "file_extension": ".py",
   "mimetype": "text/x-python",
   "name": "python",
   "nbconvert_exporter": "python",
   "pygments_lexer": "ipython3",
   "version": "3.8.5-final"
  },
  "orig_nbformat": 2,
  "kernelspec": {
   "name": "python_defaultSpec_1599960080420",
   "display_name": "Python 3.8.5 64-bit"
  }
 },
 "nbformat": 4,
 "nbformat_minor": 2,
 "cells": [
  {
   "cell_type": "code",
   "execution_count": 1,
   "metadata": {},
   "outputs": [],
   "source": [
    "import pandas as pd\n",
    "import numpy as np\n",
    "\n",
    "# Based on guideline from \n",
    "# https://www.earthdatascience.org/courses/intro-to-earth-data-science/write-efficient-python-code/functions-modular-code/write-functions-with-multiple-and-optional-parameters-in-python/"
   ]
  },
  {
   "cell_type": "code",
   "execution_count": 18,
   "metadata": {},
   "outputs": [],
   "source": [
    "def is_angka_genap(string):\n",
    "    try:\n",
    "        if(float(string) % 2 == 0):\n",
    "            return str(string) + \" adalah angka genap\"\n",
    "        elif(float(string) % 2 == 1):\n",
    "            return str(string) + \" adalah angka ganjil\"\n",
    "    except ValueError:\n",
    "        return \"Unexpected Error\""
   ]
  },
  {
   "cell_type": "code",
   "execution_count": 19,
   "metadata": {},
   "outputs": [
    {
     "output_type": "execute_result",
     "data": {
      "text/plain": "'5 adalah angka ganjil'"
     },
     "metadata": {},
     "execution_count": 19
    }
   ],
   "source": [
    "is_angka_genap(5)"
   ]
  },
  {
   "cell_type": "code",
   "execution_count": 23,
   "metadata": {},
   "outputs": [
    {
     "output_type": "execute_result",
     "data": {
      "text/plain": "'550 adalah angka genap'"
     },
     "metadata": {},
     "execution_count": 23
    }
   ],
   "source": [
    "is_angka_genap(550)"
   ]
  },
  {
   "cell_type": "code",
   "execution_count": 22,
   "metadata": {},
   "outputs": [
    {
     "output_type": "execute_result",
     "data": {
      "text/plain": "'Unexpected Error'"
     },
     "metadata": {},
     "execution_count": 22
    }
   ],
   "source": [
    "is_angka_genap('salah')"
   ]
  },
  {
   "cell_type": "code",
   "execution_count": null,
   "metadata": {},
   "outputs": [],
   "source": []
  }
 ]
}