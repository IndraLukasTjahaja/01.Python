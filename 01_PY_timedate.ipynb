{
 "metadata": {
  "language_info": {
   "codemirror_mode": {
    "name": "ipython",
    "version": 3
   },
   "file_extension": ".py",
   "mimetype": "text/x-python",
   "name": "python",
   "nbconvert_exporter": "python",
   "pygments_lexer": "ipython3",
   "version": "3.8.5-final"
  },
  "orig_nbformat": 2,
  "kernelspec": {
   "name": "python_defaultSpec_1598761032996",
   "display_name": "Python 3.8.5 64-bit"
  }
 },
 "nbformat": 4,
 "nbformat_minor": 2,
 "cells": [
  {
   "cell_type": "code",
   "execution_count": 2,
   "metadata": {
    "tags": []
   },
   "outputs": [
    {
     "output_type": "stream",
     "name": "stdout",
     "text": "2020-08-01\n"
    }
   ],
   "source": [
    "# To show automate time and date\n",
    "import datetime\n",
    "\n",
    "# Substract one day to get last month end of day\n",
    "this_month_first = datetime.date(datetime.date.today().year, datetime.date.today().month, 1) \n",
    "print(this_month_first)"
   ]
  },
  {
   "cell_type": "code",
   "execution_count": 3,
   "metadata": {
    "tags": []
   },
   "outputs": [
    {
     "output_type": "stream",
     "name": "stdout",
     "text": "2020-07-31\n"
    }
   ],
   "source": [
    "last_month_end = this_month_first - datetime.timedelta(1)\n",
    "print(last_month_end)"
   ]
  },
  {
   "cell_type": "code",
   "execution_count": 4,
   "metadata": {
    "tags": []
   },
   "outputs": [
    {
     "output_type": "stream",
     "name": "stdout",
     "text": "202007\n"
    }
   ],
   "source": [
    "last_month_format = last_month_end.strftime('%Y%m')\n",
    "print(last_month_format)"
   ]
  },
  {
   "cell_type": "code",
   "execution_count": 5,
   "metadata": {
    "tags": []
   },
   "outputs": [
    {
     "output_type": "stream",
     "name": "stdout",
     "text": "20200731\n"
    }
   ],
   "source": [
    "last_month_day_format = last_month_end.strftime('%Y%m%d')\n",
    "print(last_month_day_format)"
   ]
  },
  {
   "cell_type": "code",
   "execution_count": 6,
   "metadata": {
    "tags": []
   },
   "outputs": [
    {
     "output_type": "stream",
     "name": "stdout",
     "text": "JUL2020\n"
    }
   ],
   "source": [
    "last_month_first_text = str(last_month_end.strftime('%b%Y')).upper()\n",
    "print(last_month_first_text)"
   ]
  },
  {
   "cell_type": "code",
   "execution_count": 8,
   "metadata": {
    "tags": []
   },
   "outputs": [
    {
     "output_type": "stream",
     "name": "stdout",
     "text": "\\\\main_folder\\folder\file_name202007.txt\n"
    }
   ],
   "source": [
    "# Create automatic path\n",
    "# This will be error\n",
    "path = \"\\\\\\\\main_folder\\\\folder\"\n",
    "filename = \"\\file_name\" + last_month_format + \".txt\"\n",
    "print(path+filename)"
   ]
  }
 ]
}