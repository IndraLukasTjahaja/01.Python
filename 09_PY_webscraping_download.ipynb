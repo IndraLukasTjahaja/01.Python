{
 "metadata": {
  "language_info": {
   "codemirror_mode": {
    "name": "ipython",
    "version": 3
   },
   "file_extension": ".py",
   "mimetype": "text/x-python",
   "name": "python",
   "nbconvert_exporter": "python",
   "pygments_lexer": "ipython3",
   "version": "3.8.5-final"
  },
  "orig_nbformat": 2,
  "kernelspec": {
   "name": "Python 3.8.5 64-bit",
   "display_name": "Python 3.8.5 64-bit",
   "metadata": {
    "interpreter": {
     "hash": "082e9a3bcad0a290d0001e938aa60b99250c6c2ef33a923c00b70f9826caf4b7"
    }
   }
  }
 },
 "nbformat": 4,
 "nbformat_minor": 2,
 "cells": [
  {
   "cell_type": "code",
   "execution_count": 21,
   "metadata": {},
   "outputs": [],
   "source": [
    "import os\n",
    "import requests\n",
    "import zipfile\n",
    "\n",
    "from bs4 import BeautifulSoup\n",
    "\n",
    "url = 'https://www.ojk.go.id/id/kanal/perbankan/data-dan-statistik/statistik-perbankan-indonesia/Pages/Statistik-Perbankan-Indonesia---Juli-2020.aspx'\n",
    "root = 'https://www.ojk.go.id/'\n",
    "\n",
    "r = requests.get(url)\n",
    "soup = BeautifulSoup(r.text, 'html.parser')\n",
    "\n",
    "all_hrefs = soup.find_all('a')\n",
    "all_links = [link.get('href') for link in all_hrefs]\n",
    "zip_files = [dl for dl in all_links if dl and '.zip' in dl]\n",
    "download_folder = 'output'"
   ]
  },
  {
   "cell_type": "code",
   "execution_count": 23,
   "metadata": {},
   "outputs": [],
   "source": [
    "if not os.path.exists(download_folder):\n",
    "    os.makedirs(download_folder)\n",
    "\n",
    "tries = 0\n",
    "for zip_file in zip_files:\n",
    "    full_url = root + zip_file\n",
    "    zip_filename = os.path.basename(zip_file)\n",
    "    dl_path = os.path.join(download_folder, zip_filename)\n",
    "    if os.path.exists(dl_path):\n",
    "        # you have already downloaded this file, so skip it\n",
    "        continue\n",
    "\n",
    "    while tries < 3:\n",
    "        r = requests.get(full_url)\n",
    "        dl_path = os.path.join(download_folder, zip_filename)\n",
    "        with open(dl_path, 'wb') as z_file:\n",
    "            z_file.write(r.content)\n",
    "\n",
    "        # unzip the file\n",
    "        extract_dir = os.path.splitext(os.path.basename(zip_file))[0]\n",
    "        try:\n",
    "            z = zipfile.ZipFile(dl_path)\n",
    "            z.extractall(os.path.join(download_folder, extract_dir))\n",
    "            break\n",
    "        except zipfile.BadZipfile:\n",
    "            # the file didn't download correctly, so try again\n",
    "            # this is also a good place to log the error\n",
    "            pass\n",
    "        tries += 1"
   ]
  }
 ]
}