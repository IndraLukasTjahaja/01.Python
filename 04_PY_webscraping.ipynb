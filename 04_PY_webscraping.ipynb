{
 "metadata": {
  "language_info": {
   "codemirror_mode": {
    "name": "ipython",
    "version": 3
   },
   "file_extension": ".py",
   "mimetype": "text/x-python",
   "name": "python",
   "nbconvert_exporter": "python",
   "pygments_lexer": "ipython3",
   "version": "3.8.5-final"
  },
  "orig_nbformat": 2,
  "kernelspec": {
   "name": "python_defaultSpec_1598884396853",
   "display_name": "Python 3.8.5 64-bit"
  }
 },
 "nbformat": 4,
 "nbformat_minor": 2,
 "cells": [
  {
   "cell_type": "code",
   "execution_count": 9,
   "metadata": {
    "tags": []
   },
   "outputs": [
    {
     "output_type": "stream",
     "name": "stdout",
     "text": "<class 'pandas.core.frame.DataFrame'>\nRangeIndex: 28 entries, 0 to 27\nData columns (total 2 columns):\n #   Column   Non-Null Count  Dtype         \n---  ------   --------------  -----         \n 0   Tanggal  28 non-null     datetime64[ns]\n 1   Rate     28 non-null     float64       \ndtypes: datetime64[ns](1), float64(1)\nmemory usage: 576.0 bytes\n"
    }
   ],
   "source": [
    "# install library requests and bs4\n",
    "\n",
    "import requests, os, bs4\n",
    "import pandas as pd\n",
    "import re # for regular expression\n",
    "\n",
    "# Guide to create executable Python script\n",
    "# https://martechwithme.com/convert-python-script-app-windows-mac/\n",
    "\n",
    "# Guide to create scheduler\n",
    "# https://martechwithme.com/schedule-python-scripts-windows-mac/\n",
    "\n",
    "\n",
    "# Open local csv file that contain historical data\n",
    "df_base_usdidr = pd.read_csv('output/Rate.csv', sep = '|')\n",
    "df_base_usdidr['Tanggal'] = df_base_usdidr['Tanggal'].astype('datetime64[ns]')\n",
    "df_base_usdidr['Rate'] = df_base_usdidr['Rate'].astype(float)\n",
    "\n",
    "df_base_usdidr.info()"
   ]
  },
  {
   "cell_type": "code",
   "execution_count": 13,
   "metadata": {
    "tags": []
   },
   "outputs": [
    {
     "output_type": "stream",
     "name": "stdout",
     "text": "<class 'bs4.element.ResultSet'>\n36\n{}\n\n                    14,877.00\n                \n"
    }
   ],
   "source": [
    "# Open link to BI USD IDR website\n",
    "url = 'https://www.bi.go.id/en/moneter/informasi-kurs/referensi-jisdor/Default.aspx'\n",
    "# url to get daily BI rates on daily basis\n",
    "res = requests.get(url)\n",
    "res.raise_for_status()\n",
    "BI_usdidr_page = bs4.BeautifulSoup(res.text, 'html.parser')\n",
    "\n",
    "# using beautiful soup to parse the html content\n",
    "elems = BI_usdidr_page.select('tr > td')\n",
    "\n",
    "# Part of Data test to find out content of elems\n",
    "print(type(elems))\n",
    "print(len(elems))\n",
    "print(elems[24].attrs)\n",
    "print(elems[25].getText())"
   ]
  },
  {
   "cell_type": "code",
   "execution_count": 16,
   "metadata": {},
   "outputs": [],
   "source": [
    "# Create function to check whether a string is a date, and another function\n",
    "# to remove any , in a number\n",
    "\n",
    "# Library to \n",
    "import dateutil\n",
    "from dateutil import parser\n",
    "\n",
    "def is_date(string, fuzzy=False):\n",
    "    \"\"\"\n",
    "    Return whether the string can be interpreted as a date.\n",
    "    :param string: str, string to check for date\n",
    "    :param fuzzy: bool, ignore unknown tokens in string if True\n",
    "    \"\"\"\n",
    "    try: \n",
    "        parser.parse(string, fuzzy=fuzzy)\n",
    "        return True\n",
    "\n",
    "    except ValueError:\n",
    "        return False\n",
    "\n",
    "\n",
    "def is_angka(string):\n",
    "    string = string.strip()\n",
    "    string = string.replace(',','')\n",
    "    print(string)\n",
    "    try:\n",
    "        float(string)\n",
    "        return True\n",
    "    except ValueError:\n",
    "        return False\n",
    "\n"
   ]
  },
  {
   "cell_type": "code",
   "execution_count": 17,
   "metadata": {
    "tags": []
   },
   "outputs": [
    {
     "output_type": "stream",
     "name": "stdout",
     "text": "\n\n\n\nFOREIGN EXCHANGE REFERENCE RATE\nJAKARTA INTERBANK SPOT DOLLAR RATE\nUSD - IDR​\nFOREIGN EXCHANGE REFERENCE RATE\nJAKARTA INTERBANK SPOT DOLLAR RATE\nUSD - IDR​\n31 August 2020\n14554.00\n28 August 2020\n14702.00\n27 August 2020\n14714.00\n26 August 2020\n14636.00\n25 August 2020\n14632.00\n24 August 2020\n14794.00\n19 August 2020\n14786.00\n18 August 2020\n14907.00\n14 August 2020\n14917.00\n13 August 2020\n14877.00\n12 August 2020\n14777.00\n11 August 2020\n14728.00\n10 August 2020\n14750.00\n7 August 2020\n14647.00\nFrom\n\nTo\n\n"
    }
   ],
   "source": [
    "# Coding to strip all the content of elems and put them to list\n",
    "content = [x.text.strip() for x in BI_usdidr_page.select('tr > td')]\n",
    "\n",
    "tanggal = []\n",
    "rate = []\n",
    "\n",
    "for i in content:\n",
    "    if is_angka(i):\n",
    "        angka = i.strip()\n",
    "        angka = angka.replace(',','')\n",
    "        rate.append(angka)\n",
    "    elif is_date(i):\n",
    "        dte = dateutil.parser.parse(i)\n",
    "        tanggal.append(dte)"
   ]
  },
  {
   "cell_type": "code",
   "execution_count": 18,
   "metadata": {},
   "outputs": [],
   "source": [
    "#create new df \n",
    "df_usdidr = pd.DataFrame({'Tanggal':tanggal,'Rate':rate})\n",
    "df_usdidr['Rate'] = df_usdidr['Rate'].astype(float)\n",
    "\n",
    "#append to the database\n",
    "df_base_usdidr = df_base_usdidr.append(df_usdidr)\n",
    "\n",
    "#Drop duplicate\n",
    "df_base_usdidr.drop_duplicates(subset =\"Tanggal\", \n",
    "                     keep = 'first', inplace = True) \n",
    "\n",
    "df_base_usdidr.to_csv('output/Rate.csv', index=None, sep = '|')"
   ]
  },
  {
   "cell_type": "code",
   "execution_count": null,
   "metadata": {},
   "outputs": [],
   "source": []
  }
 ]
}