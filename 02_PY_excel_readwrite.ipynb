{
 "metadata": {
  "language_info": {
   "codemirror_mode": {
    "name": "ipython",
    "version": 3
   },
   "file_extension": ".py",
   "mimetype": "text/x-python",
   "name": "python",
   "nbconvert_exporter": "python",
   "pygments_lexer": "ipython3",
   "version": "3.8.5-final"
  },
  "orig_nbformat": 2,
  "kernelspec": {
   "name": "python_defaultSpec_1598761281730",
   "display_name": "Python 3.8.5 64-bit"
  }
 },
 "nbformat": 4,
 "nbformat_minor": 2,
 "cells": [
  {
   "cell_type": "code",
   "execution_count": 4,
   "metadata": {
    "tags": []
   },
   "outputs": [
    {
     "output_type": "stream",
     "name": "stdout",
     "text": "<class 'pandas.core.frame.DataFrame'>\nRangeIndex: 800 entries, 0 to 799\nData columns (total 12 columns):\n #   Column      Non-Null Count  Dtype \n---  ------      --------------  ----- \n 0   #           800 non-null    int64 \n 1   Name        799 non-null    object\n 2   Type 1      800 non-null    object\n 3   Type 2      414 non-null    object\n 4   HP          800 non-null    int64 \n 5   Attack      800 non-null    int64 \n 6   Defense     800 non-null    int64 \n 7   Sp. Atk     800 non-null    int64 \n 8   Sp. Def     800 non-null    int64 \n 9   Speed       800 non-null    int64 \n 10  Generation  800 non-null    int64 \n 11  Legendary   800 non-null    bool  \ndtypes: bool(1), int64(8), object(3)\nmemory usage: 69.7+ KB\n"
    }
   ],
   "source": [
    "# Read dataset\n",
    "\n",
    "import pandas as pd\n",
    "data = pd.read_csv('input/pokemon.csv')\n",
    "data.info()"
   ]
  },
  {
   "cell_type": "code",
   "execution_count": 3,
   "metadata": {
    "tags": []
   },
   "outputs": [
    {
     "output_type": "stream",
     "name": "stdout",
     "text": "202008\n"
    }
   ],
   "source": [
    "# Create automatic file name, to be saved to save the output to excel\n",
    "\n",
    "import datetime\n",
    "this_month_first = datetime.date(datetime.date.today().year, datetime.date.today().month, 1) \n",
    "this_month_format = this_month_first.strftime('%Y%m')\n",
    "print(this_month_format)"
   ]
  },
  {
   "cell_type": "code",
   "execution_count": 6,
   "metadata": {},
   "outputs": [],
   "source": [
    "# Create excel file from input, then summarize and save as excel using pd.ExcelWriter\n",
    "# Require library ExcelWriter\n",
    "\n",
    "summary_pokemon = \"output/summary_pokemon_\" + this_month_format + \".xlsx\"\n",
    "writer = pd.ExcelWriter(summary_pokemon, engine = 'xlsxwriter')\n",
    "\n",
    "# Create summary by using proc tabulate\n",
    "summary_by_HP = pd.crosstab(data['Type 1'], data['Type 2'], values = data.HP, aggfunc = 'mean')\n",
    "summary_by_HP.to_excel(writer, sheet_name = '01.Summary_by_HP')\n",
    "\n",
    "# Print all data to excel\n",
    "data.to_excel(writer, sheet_name = '02.Raw')\n",
    "\n",
    "writer.save()\n",
    "writer.close()"
   ]
  },
  {
   "cell_type": "code",
   "execution_count": 7,
   "metadata": {
    "tags": []
   },
   "outputs": [
    {
     "output_type": "stream",
     "name": "stdout",
     "text": "['Sheet1', 'Sheet2', 'Sheet3', 'Summary']\n"
    }
   ],
   "source": [
    "# Require library openpyxl\n",
    "# Another excel to Python library that have different features\n",
    "# based on guide from: https://www.datacamp.com/community/tutorials/python-excel-tutorial\n",
    "\n",
    "# Import `load_workbook` module from `openpyxl`\n",
    "from openpyxl import load_workbook\n",
    "\n",
    "# Load in the workbook\n",
    "wb = load_workbook('input/excel_template.xlsx')\n",
    "\n",
    "# Get sheet names\n",
    "print(wb.sheetnames)"
   ]
  },
  {
   "cell_type": "code",
   "execution_count": 8,
   "metadata": {
    "tags": []
   },
   "outputs": [
    {
     "output_type": "stream",
     "name": "stdout",
     "text": "Sheet Title: Sheet1\n<Worksheet \"Summary\">\n"
    }
   ],
   "source": [
    "# Get a sheet by name\n",
    "sheet = wb['Sheet1']\n",
    "\n",
    "# Print the sheet title\n",
    "print('Sheet Title:',sheet.title)\n",
    "\n",
    "# Get currently active sheet\n",
    "anotherSheet = wb.active\n",
    "\n",
    "# Check `anotherSheet`\n",
    "print(anotherSheet)"
   ]
  },
  {
   "cell_type": "code",
   "execution_count": 10,
   "metadata": {
    "tags": []
   },
   "outputs": [
    {
     "output_type": "stream",
     "name": "stdout",
     "text": "ID\nRow No.: 3\nColumn Letter: 2\nCoordinates of cell: B3\nAGE\n"
    }
   ],
   "source": [
    "# Retrieve the value of a certain cell\n",
    "print(sheet['A1'].value)\n",
    "\n",
    "# Select element 'B3' of your sheet\n",
    "c = sheet['B3']\n",
    "\n",
    "# Retrieve the row number of your element\n",
    "print('Row No.:', c.row)\n",
    "\n",
    "# Retrieve the column number of your element\n",
    "print('Column Letter:', c.column)\n",
    "\n",
    "# Retrieve the coordinates of the cell\n",
    "print('Coordinates of cell:', c.coordinate)\n",
    "\n",
    "# Retrieve cell value\n",
    "print(sheet.cell(row=1, column=2).value)"
   ]
  },
  {
   "cell_type": "code",
   "execution_count": 16,
   "metadata": {
    "tags": []
   },
   "outputs": [
    {
     "output_type": "stream",
     "name": "stdout",
     "text": "0    1      2\n0  ID  AGE  SCORE\n1   1   22      5\n2   2   15      6\n3   3   28      9\n"
    }
   ],
   "source": [
    "# Import `pandas`\n",
    "import pandas as pd\n",
    "\n",
    "# Convert Sheet to DataFrame\n",
    "df = pd.DataFrame(sheet.values)\n",
    "\n",
    "print(df.head(5))"
   ]
  },
  {
   "cell_type": "code",
   "execution_count": 17,
   "metadata": {},
   "outputs": [],
   "source": [
    "# Require library xlwt\n",
    "# Another excel to Python library that have different features\n",
    "# based on guide from: https://www.datacamp.com/community/tutorials/python-excel-tutorial\n",
    "\n",
    "# Import `xlwt`\n",
    "import xlwt\n",
    "\n",
    "# Initialize a workbook\n",
    "book = xlwt.Workbook(encoding=\"utf-8\")\n",
    "\n",
    "# Add a sheet to the workbook\n",
    "sheet1 = book.add_sheet(\"Python Sheet 1\")\n",
    "\n",
    "# Write to the sheet of the workbook\n",
    "sheet1.write(0, 0, \"This is the First Cell of the First Sheet\")\n",
    "\n",
    "# Save the workbook\n",
    "book.save(\"output/xlwt_example.xls\")"
   ]
  },
  {
   "cell_type": "code",
   "execution_count": 18,
   "metadata": {},
   "outputs": [],
   "source": [
    "# Initialize a workbook\n",
    "book = xlwt.Workbook()\n",
    "\n",
    "# Add a sheet to the workbook\n",
    "sheet1 = book.add_sheet(\"Sheet1\")\n",
    "\n",
    "# The data\n",
    "cols = [\"A\", \"B\", \"C\", \"D\", \"E\"]\n",
    "txt = [0,1,2,3,4]\n",
    "\n",
    "# Loop over the rows and columns and fill in the values\n",
    "for num in range(5):\n",
    "      row = sheet1.row(num)\n",
    "      for index, col in enumerate(cols):\n",
    "          value = txt[index] + num\n",
    "          row.write(index, value)\n",
    "\n",
    "# Save the result\n",
    "book.save(\"output/xlwt_example2.xls\")"
   ]
  },
  {
   "cell_type": "code",
   "execution_count": 11,
   "metadata": {
    "tags": []
   },
   "outputs": [
    {
     "output_type": "stream",
     "name": "stdout",
     "text": "1 AGE\n2 22\n3 15\n"
    }
   ],
   "source": [
    "# Print out values in column 2\n",
    "for i in range(1, 4):\n",
    "     print(i, sheet.cell(row=i, column=2).value)"
   ]
  },
  {
   "cell_type": "code",
   "execution_count": 12,
   "metadata": {
    "tags": []
   },
   "outputs": [
    {
     "output_type": "stream",
     "name": "stdout",
     "text": "Column Letter: A\nColumn Index: 1\n"
    }
   ],
   "source": [
    "# Import relevant modules from `openpyxl.utils`\n",
    "from openpyxl.utils import get_column_letter, column_index_from_string\n",
    "\n",
    "# Return 'A'\n",
    "print('Column Letter:', get_column_letter(1))\n",
    "\n",
    "# Return '1'\n",
    "print('Column Index:', column_index_from_string('A'))"
   ]
  },
  {
   "cell_type": "code",
   "execution_count": 13,
   "metadata": {
    "tags": []
   },
   "outputs": [
    {
     "output_type": "stream",
     "name": "stdout",
     "text": "A1 ID\nB1 AGE\nC1 SCORE\n--- END ---\nA2 1\nB2 22\nC2 5\n--- END ---\nA3 2\nB3 15\nC3 6\n--- END ---\n"
    }
   ],
   "source": [
    "# Print row per row\n",
    "for cellObj in sheet['A1':'C3']:\n",
    "      for cell in cellObj:\n",
    "              print(cell.coordinate, cell.value)\n",
    "      print('--- END ---')"
   ]
  },
  {
   "cell_type": "code",
   "execution_count": 14,
   "metadata": {
    "tags": []
   },
   "outputs": [
    {
     "output_type": "stream",
     "name": "stdout",
     "text": "Max Rows: 4\nMax Columns: 3\n"
    }
   ],
   "source": [
    "# Retrieve the maximum amount of rows\n",
    "print('Max Rows:', sheet.max_row)\n",
    "\n",
    "# Retrieve the maximum amount of columns\n",
    "print('Max Columns:', sheet.max_column)"
   ]
  },
  {
   "cell_type": "code",
   "execution_count": 15,
   "metadata": {},
   "outputs": [],
   "source": []
  },
  {
   "cell_type": "code",
   "execution_count": null,
   "metadata": {},
   "outputs": [],
   "source": []
  }
 ]
}